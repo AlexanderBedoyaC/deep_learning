{
 "cells": [
  {
   "cell_type": "code",
   "execution_count": 1,
   "metadata": {},
   "outputs": [],
   "source": [
    "import os\n",
    "from PIL import Image\n",
    "\n",
    "import numpy as np\n",
    "import matplotlib.pyplot as plt\n",
    "from sklearn.ensemble import RandomForestClassifier\n",
    "\n",
    "import tensorflow as tf #Framework para deep learning\n",
    "from tensorflow import keras\n",
    "from keras_tuner.tuners import RandomSearch #API que contiene la mayoría de funciones para las RN"
   ]
  },
  {
   "cell_type": "code",
   "execution_count": 2,
   "metadata": {},
   "outputs": [
    {
     "name": "stdout",
     "output_type": "stream",
     "text": [
      "0_Canary\n",
      "10_Rabbit\n",
      "11_Sheep\n",
      "12_Turkey\n",
      "1_Cattle\n",
      "2_Chicken\n",
      "3_Duck\n",
      "4_Goat\n",
      "5_Goose\n",
      "6_Hamster\n",
      "7_Horse\n",
      "8_Mule\n",
      "9_Parrot\n"
     ]
    }
   ],
   "source": [
    "x_train = []\n",
    "y_train = []\n",
    "path_data = 'data400x400/train'\n",
    "names_files = os.listdir(path_data)\n",
    "for file in names_files:\n",
    "    print(file)\n",
    "    path_images = 'data400x400/train/'+file\n",
    "    names_images = os.listdir(path_images)\n",
    "    for name in names_images:\n",
    "        path_image = os.path.join(path_images, name)\n",
    "        image = Image.open(path_image)\n",
    "        label = file.split('_')\n",
    "        x_train.append(np.array(image))\n",
    "        y_train.append(int(label[0]))"
   ]
  },
  {
   "cell_type": "code",
   "execution_count": 3,
   "metadata": {},
   "outputs": [
    {
     "name": "stdout",
     "output_type": "stream",
     "text": [
      "0_Canary\n",
      "10_Pig\n",
      "11_Rabbit\n",
      "12_Sheep\n",
      "13_Turkey\n",
      "1_Cattle\n",
      "2_Chicken\n",
      "3_Duck\n",
      "4_Goat\n",
      "5_Goose\n",
      "6_Hamster\n",
      "7_Horse\n",
      "8_Mule\n",
      "9_Parrot\n"
     ]
    }
   ],
   "source": [
    "x_test = []\n",
    "y_test = []\n",
    "path_data = 'data400x400/test'\n",
    "names_files = os.listdir(path_data)\n",
    "for file in names_files:\n",
    "    print(file)\n",
    "    path_images = 'data400x400/test/'+file\n",
    "    names_images = os.listdir(path_images)\n",
    "    for name in names_images:\n",
    "        path_image = os.path.join(path_images, name)\n",
    "        image = Image.open(path_image)\n",
    "        label = file.split('_')\n",
    "        x_test.append(np.array(image))\n",
    "        y_test.append(int(label[0]))"
   ]
  },
  {
   "cell_type": "code",
   "execution_count": 4,
   "metadata": {},
   "outputs": [],
   "source": [
    "x_train = np.array(x_train)\n",
    "y_train = np.array(y_train)\n",
    "x_test = np.array(x_test)\n",
    "y_test = np.array(y_test)"
   ]
  },
  {
   "cell_type": "code",
   "execution_count": 5,
   "metadata": {},
   "outputs": [
    {
     "data": {
      "text/plain": [
       "(2951, 400, 400, 3)"
      ]
     },
     "execution_count": 5,
     "metadata": {},
     "output_type": "execute_result"
    }
   ],
   "source": [
    "### Estandarización de los datos\n",
    "x_train2 = x_train/255\n",
    "x_test2 = x_test/255\n",
    "x_train2.shape"
   ]
  }
 ],
 "metadata": {
  "kernelspec": {
   "display_name": "Python 3",
   "language": "python",
   "name": "python3"
  },
  "language_info": {
   "codemirror_mode": {
    "name": "ipython",
    "version": 3
   },
   "file_extension": ".py",
   "mimetype": "text/x-python",
   "name": "python",
   "nbconvert_exporter": "python",
   "pygments_lexer": "ipython3",
   "version": "3.11.4"
  },
  "orig_nbformat": 4
 },
 "nbformat": 4,
 "nbformat_minor": 2
}
